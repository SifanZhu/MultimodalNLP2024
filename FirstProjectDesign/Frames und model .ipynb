{
 "cells": [
  {
   "cell_type": "code",
   "execution_count": 1,
   "id": "0a6de86d",
   "metadata": {},
   "outputs": [
    {
     "ename": "ModuleNotFoundError",
     "evalue": "No module named 'cv2'",
     "output_type": "error",
     "traceback": [
      "\u001b[0;31m---------------------------------------------------------------------------\u001b[0m",
      "\u001b[0;31mModuleNotFoundError\u001b[0m                       Traceback (most recent call last)",
      "Cell \u001b[0;32mIn[1], line 1\u001b[0m\n\u001b[0;32m----> 1\u001b[0m \u001b[38;5;28;01mimport\u001b[39;00m \u001b[38;5;21;01mcv2\u001b[39;00m\n\u001b[1;32m      2\u001b[0m \u001b[38;5;28;01mimport\u001b[39;00m \u001b[38;5;21;01mos\u001b[39;00m\n\u001b[1;32m      4\u001b[0m \u001b[38;5;66;03m# Load the video\u001b[39;00m\n",
      "\u001b[0;31mModuleNotFoundError\u001b[0m: No module named 'cv2'"
     ]
    }
   ],
   "source": [
    "import cv2\n",
    "import os\n",
    "\n",
    "# Load the video\n",
    "video_file = \"/Users/kristinakuznetsova/Downloads/WhatsApp Video 2024-06-02 at 17.54.07.mp4\" #path of the video\n",
    "cap = cv2.VideoCapture(video_file)\n",
    "\n",
    "# Create a directory to save the frames\n",
    "frames_dir = './extracted_frames_capture'#location of the exctracted frames \n",
    "os.makedirs(frames_dir, exist_ok=True)\n",
    "\n",
    "# Get the total number of frames in the video\n",
    "frame_count = int(cap.get(cv2.CAP_PROP_FRAME_COUNT))\n",
    "frames = []\n",
    "total_frames_to_extract = 10  # Set the total number of frames to extract\n",
    "\n",
    "# Calculate the interval between frames to extract\n",
    "interval = max(1, frame_count // total_frames_to_extract)\n",
    "\n",
    "for i in range(0, frame_count, interval):\n",
    "    cap.set(cv2.CAP_PROP_POS_FRAMES, i)\n",
    "    ret, frame = cap.read()\n",
    "    if ret:\n",
    "        frame_path = os.path.join(frames_dir, f'frame_{i}.jpg')\n",
    "        cv2.imwrite(frame_path, frame)\n",
    "        frames.append(frame)\n",
    "    else:\n",
    "        break\n",
    "\n",
    "cap.release()\n",
    "\n",
    "print(f\"Extracted {len(frames)} frames.\")"
   ]
  },
  {
   "cell_type": "code",
   "execution_count": null,
   "id": "0e1fb876",
   "metadata": {},
   "outputs": [],
   "source": [
    "from transformers import pipeline\n",
    "\n",
    "image_to_text = pipeline(\"image-to-text\", model=\"nlpconnect/vit-gpt2-image-captioning\")\n",
    "\n",
    "image_to_text(\"https://www.alleycat.org/wp-content/uploads/2019/03/FELV-cat.jpg\")\n",
    "# [{'generated_text': 'a soccer game with a player jumping to catch the ball '}]\n"
   ]
  },
  {
   "cell_type": "code",
   "execution_count": null,
   "id": "60d25f4c",
   "metadata": {},
   "outputs": [],
   "source": [
    "image_to_text(\"/Users/kristinakuznetsova/Downloads/frame_189.jpg\")"
   ]
  }
 ],
 "metadata": {
  "kernelspec": {
   "display_name": "Python 3 (ipykernel)",
   "language": "python",
   "name": "python3"
  },
  "language_info": {
   "codemirror_mode": {
    "name": "ipython",
    "version": 3
   },
   "file_extension": ".py",
   "mimetype": "text/x-python",
   "name": "python",
   "nbconvert_exporter": "python",
   "pygments_lexer": "ipython3",
   "version": "3.8.16"
  }
 },
 "nbformat": 4,
 "nbformat_minor": 5
}
