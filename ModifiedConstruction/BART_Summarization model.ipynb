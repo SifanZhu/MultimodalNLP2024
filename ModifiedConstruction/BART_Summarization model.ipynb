{
 "cells": [
  {
   "cell_type": "code",
   "execution_count": 2,
   "id": "d2f585d5",
   "metadata": {},
   "outputs": [
    {
     "name": "stdout",
     "output_type": "stream",
     "text": [
      "Summary:\n",
      "A woman in a vibrant red jumpsuit walks along the storefronts with signs. A man in a tie, blue sweatshirt, and jeans crosses a zebra crossing, a woman walks down the street moving away from the camera, and a man in black lies on the ground next to closed shops.\n"
     ]
    }
   ],
   "source": [
    "from transformers import BartTokenizer, BartForConditionalGeneration\n",
    "\n",
    "# Load pre-trained BART tokenizer and model for summarization\n",
    "tokenizer = BartTokenizer.from_pretrained('facebook/bart-large-cnn')\n",
    "model = BartForConditionalGeneration.from_pretrained('facebook/bart-large-cnn')\n",
    "\n",
    "# Input text to be summarized\n",
    "text = \"\"\"\n",
    "A man in black heads towards the zebra crossing, another man, also in black, passes by him, meanwhile a woman in a vibrant red jumpsuit walks along the storefronts with signs.\n",
    "A man in black walks towards the zebra crossing, another man also in black walks past him, while a woman in a vibrant red jumpsuit walks along the storefronts with signs, and a woman in a white jumper, black trousers, and heels crosses a zebra crossing, moving away from the camera.\n",
    "A man in black walks towards a zebra crossing where a woman in a white jumper, black trousers, and heeled shoes crosses away from the camera, meanwhile, another man in black heads towards a closed shop, and a woman in a vibrant red jumpsuit walks along the storefronts with signs.\n",
    "A woman in a white jumper, black trousers, and heeled shoes crosses a zebra crossing, moving away from the camera towards a man walking towards her, while a woman in red walks along the storefronts with signs, and a man in the background approaches one of the closed shops.\n",
    "A woman in a white jumper, black trousers, and heeled shoes crosses a zebra crossing, moving away from the camera towards a man, while a woman in red walks along the storefronts with signs, and a man in the background stands near one of them.\n",
    "A woman in a white jumper, black trousers, and heeled shoes crosses a zebra crossing, moving away from the camera towards a man, while a man in black stands near a closed shop with signs in the background.\n",
    "A man wearing a tie, blue sweatshirt, and jeans and a woman wearing a white blouse, black trousers, and heeled shoes cross the zebra crossing, while a man in black crouches by a closed shop.\n",
    "A man in a tie, blue sweatshirt, and jeans crosses a zebra crossing, a woman walks down the street moving away from the camera, and a man in black lies on the ground near closed shops.\n",
    "A man wearing a tie, blue sweatshirt, and jeans crosses a zebra crossing, a woman walks down the street away from the camera, and a man in black lies on the ground next to closed shops.\n",
    "A man wearing a tie, blue jumper, and jeans crosses a zebra crossing, a woman wearing a white jumper, black trousers, and heeled shoes crouches, and a man in black lies on the ground next to closed shops.\n",
    "A man wearing a tie, blue blouse, and jeans crosses a zebra crossing, a woman wearing a white blouse, black trousers, and heeled shoes falls to the ground, and a man in black lies on the ground next to closed shops.\n",
    "A woman in a white jumper, black trousers, and heeled shoes lies on a zebra crossing, which is crossed by a man in a tie, while a man in black lies on the ground next to closed shops.\n",
    "A woman wearing a white jumper, black trousers, and heeled shoes lies on a zebra crossing, which is crossed by a man wearing a tie, while a man in black lies on the ground next to closed shops.\n",
    "\"\"\"\n",
    "\n",
    "# Tokenize the input text\n",
    "inputs = tokenizer(text, return_tensors='pt', max_length=1024, truncation=True)\n",
    "\n",
    "# Generate summary\n",
    "summary_ids = model.generate(inputs['input_ids'], num_beams=4, max_length=100, early_stopping=True)\n",
    "\n",
    "# Decode and print the summary\n",
    "summary = tokenizer.decode(summary_ids[0], skip_special_tokens=True)\n",
    "\n",
    "print(\"Summary:\")\n",
    "print(summary)\n"
   ]
  },
  {
   "cell_type": "code",
   "execution_count": null,
   "id": "f990d5d6",
   "metadata": {},
   "outputs": [],
   "source": []
  }
 ],
 "metadata": {
  "kernelspec": {
   "display_name": "Python 3 (ipykernel)",
   "language": "python",
   "name": "python3"
  },
  "language_info": {
   "codemirror_mode": {
    "name": "ipython",
    "version": 3
   },
   "file_extension": ".py",
   "mimetype": "text/x-python",
   "name": "python",
   "nbconvert_exporter": "python",
   "pygments_lexer": "ipython3",
   "version": "3.11.5"
  }
 },
 "nbformat": 4,
 "nbformat_minor": 5
}
