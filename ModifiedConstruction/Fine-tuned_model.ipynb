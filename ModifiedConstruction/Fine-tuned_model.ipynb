{
 "cells": [
  {
   "cell_type": "code",
   "execution_count": 6,
   "id": "f01811e9",
   "metadata": {},
   "outputs": [],
   "source": [
    "import torch\n",
    "from torchvision import transforms\n",
    "from PIL import Image\n",
    "import os\n",
    "import json\n",
    "from torch.utils.data import Dataset, DataLoader\n",
    "from transformers import BlipProcessor, BlipForConditionalGeneration, Trainer, TrainingArguments\n",
    "\n",
    "# Define a function to preprocess a single image\n",
    "def preprocess_image(image_path):\n",
    "    image = Image.open(image_path).convert('RGB')  # Ensure the image is in RGB format\n",
    "    return image\n",
    "\n",
    "# Custom Dataset class to handle image and annotation loading\n",
    "class ImageAnnotationDataset(Dataset):\n",
    "    def __init__(self, directory_path, annotation_file):\n",
    "        self.directory_path = directory_path\n",
    "        with open(annotation_file, 'r') as f:\n",
    "            self.annotations = json.load(f)\n",
    "        self.image_filenames = [f for f in os.listdir(directory_path) if f.endswith('.jpg') or f.endswith('.png')]\n",
    "\n",
    "    def __len__(self):\n",
    "        return len(self.image_filenames)\n",
    "\n",
    "    def __getitem__(self, idx):\n",
    "        img_name = self.image_filenames[idx]\n",
    "        img_path = os.path.join(self.directory_path, img_name)\n",
    "        image = preprocess_image(img_path)\n",
    "        annotation = self.annotations.get(img_name, \"\")\n",
    "        return image, annotation\n",
    "\n",
    "# Main function to demonstrate usage\n",
    "if __name__ == \"__main__\":\n",
    "    directory_path = \"/Users/kristinakuznetsova/Downloads/frames2\"  \n",
    "    annotation_file = \"/Users/kristinakuznetsova/Downloads/annotations.json\"  \n",
    "\n",
    "    dataset = ImageAnnotationDataset(directory_path, annotation_file)\n",
    "    dataloader = DataLoader(dataset, batch_size=8, shuffle=True)\n"
   ]
  },
  {
   "cell_type": "code",
   "execution_count": 7,
   "id": "4dc53259",
   "metadata": {},
   "outputs": [
    {
     "name": "stderr",
     "output_type": "stream",
     "text": [
      "\u001b[34m\u001b[1mwandb\u001b[0m: Currently logged in as: \u001b[33mkristi54578\u001b[0m (\u001b[33mteam00000\u001b[0m). Use \u001b[1m`wandb login --relogin`\u001b[0m to force relogin\n"
     ]
    },
    {
     "data": {
      "text/html": [
       "wandb version 0.17.3 is available!  To upgrade, please run:\n",
       " $ pip install wandb --upgrade"
      ],
      "text/plain": [
       "<IPython.core.display.HTML object>"
      ]
     },
     "metadata": {},
     "output_type": "display_data"
    },
    {
     "data": {
      "text/html": [
       "Tracking run with wandb version 0.16.0"
      ],
      "text/plain": [
       "<IPython.core.display.HTML object>"
      ]
     },
     "metadata": {},
     "output_type": "display_data"
    },
    {
     "data": {
      "text/html": [
       "Run data is saved locally in <code>/Users/kristinakuznetsova/ErweiterungsmodulSS24/wandb/run-20240625_133511-1sgupdzc</code>"
      ],
      "text/plain": [
       "<IPython.core.display.HTML object>"
      ]
     },
     "metadata": {},
     "output_type": "display_data"
    },
    {
     "data": {
      "text/html": [
       "Syncing run <strong><a href='https://wandb.ai/team00000/huggingface/runs/1sgupdzc' target=\"_blank\">young-pine-6</a></strong> to <a href='https://wandb.ai/team00000/huggingface' target=\"_blank\">Weights & Biases</a> (<a href='https://wandb.me/run' target=\"_blank\">docs</a>)<br/>"
      ],
      "text/plain": [
       "<IPython.core.display.HTML object>"
      ]
     },
     "metadata": {},
     "output_type": "display_data"
    },
    {
     "data": {
      "text/html": [
       " View project at <a href='https://wandb.ai/team00000/huggingface' target=\"_blank\">https://wandb.ai/team00000/huggingface</a>"
      ],
      "text/plain": [
       "<IPython.core.display.HTML object>"
      ]
     },
     "metadata": {},
     "output_type": "display_data"
    },
    {
     "data": {
      "text/html": [
       " View run at <a href='https://wandb.ai/team00000/huggingface/runs/1sgupdzc' target=\"_blank\">https://wandb.ai/team00000/huggingface/runs/1sgupdzc</a>"
      ],
      "text/plain": [
       "<IPython.core.display.HTML object>"
      ]
     },
     "metadata": {},
     "output_type": "display_data"
    },
    {
     "data": {
      "text/html": [
       "\n",
       "    <div>\n",
       "      \n",
       "      <progress value='66' max='66' style='width:300px; height:20px; vertical-align: middle;'></progress>\n",
       "      [66/66 02:51, Epoch 3/3]\n",
       "    </div>\n",
       "    <table border=\"1\" class=\"dataframe\">\n",
       "  <thead>\n",
       " <tr style=\"text-align: left;\">\n",
       "      <th>Epoch</th>\n",
       "      <th>Training Loss</th>\n",
       "      <th>Validation Loss</th>\n",
       "    </tr>\n",
       "  </thead>\n",
       "  <tbody>\n",
       "    <tr>\n",
       "      <td>1</td>\n",
       "      <td>No log</td>\n",
       "      <td>4.637148</td>\n",
       "    </tr>\n",
       "    <tr>\n",
       "      <td>2</td>\n",
       "      <td>No log</td>\n",
       "      <td>3.860972</td>\n",
       "    </tr>\n",
       "    <tr>\n",
       "      <td>3</td>\n",
       "      <td>No log</td>\n",
       "      <td>3.603543</td>\n",
       "    </tr>\n",
       "  </tbody>\n",
       "</table><p>"
      ],
      "text/plain": [
       "<IPython.core.display.HTML object>"
      ]
     },
     "metadata": {},
     "output_type": "display_data"
    },
    {
     "name": "stdout",
     "output_type": "stream",
     "text": [
      "TrainOutput(global_step=66, training_loss=4.378513220584754, metrics={'train_runtime': 177.4942, 'train_samples_per_second': 2.958, 'train_steps_per_second': 0.372, 'total_flos': 3.115474174181376e+17, 'train_loss': 4.378513220584754, 'epoch': 3.0})\n",
      "Model and processor saved to /Users/kristinakuznetsova/Downloads/fine_tuned_blip\n",
      "Model and processor loaded from /Users/kristinakuznetsova/Downloads/fine_tuned_blip\n"
     ]
    },
    {
     "name": "stderr",
     "output_type": "stream",
     "text": [
      "/opt/homebrew/anaconda3/lib/python3.11/site-packages/transformers/generation/utils.py:1273: UserWarning: Using the model-agnostic default `max_length` (=20) to control the generation length. We recommend setting `max_new_tokens` to control the maximum length of the generation.\n",
      "  warnings.warn(\n"
     ]
    },
    {
     "name": "stdout",
     "output_type": "stream",
     "text": [
      "Generated Caption: a bald man in casual clothes looks at a construction worker in a fluorescent waistcoat and a white\n"
     ]
    }
   ],
   "source": [
    "# Load the BLIP processor and model\n",
    "processor = BlipProcessor.from_pretrained(\"Salesforce/blip-image-captioning-base\")\n",
    "model = BlipForConditionalGeneration.from_pretrained(\"Salesforce/blip-image-captioning-base\")\n",
    "\n",
    "# Define a function to collate data for the DataLoader\n",
    "def collate_fn(batch):\n",
    "    images, annotations = zip(*batch)\n",
    "    inputs = processor(text=annotations, images=list(images), return_tensors=\"pt\", padding=True)\n",
    "    inputs['labels'] = inputs.input_ids\n",
    "    return input\n",
    "\n",
    "# Define the training arguments\n",
    "training_args = TrainingArguments(\n",
    "    output_dir=\"./results\",\n",
    "    evaluation_strategy=\"epoch\",\n",
    "    per_device_train_batch_size=8,\n",
    "    per_device_eval_batch_size=8,\n",
    "    num_train_epochs=3,\n",
    "    save_steps=10_000,\n",
    "    save_total_limit=2,\n",
    "    report_to=\"wandb\"\n",
    ")\n",
    "\n",
    "# Create a Trainer instance\n",
    "trainer = Trainer(\n",
    "    model=model,\n",
    "    args=training_args,\n",
    "    data_collator=collate_fn,\n",
    "    train_dataset=dataset,\n",
    "    eval_dataset=dataset,\n",
    ")\n",
    "\n",
    "# Start training\n",
    "train_output = trainer.train()\n",
    "\n",
    "print(train_output)\n",
    "\n",
    "# Save the model and processor\n",
    "output_dir = \"/Users/kristinakuznetsova/Downloads/fine_tuned_blip\"\n",
    "if not os.path.exists(output_dir):\n",
    "    os.makedirs(output_dir)\n",
    "model.save_pretrained(output_dir)\n",
    "processor.save_pretrained(output_dir)\n",
    "print(f\"Model and processor saved to {output_dir}\")\n",
    "\n",
    "# Load the model and processor for inference\n",
    "model = BlipForConditionalGeneration.from_pretrained(output_dir)\n",
    "processor = BlipProcessor.from_pretrained(output_dir)\n",
    "print(\"Model and processor loaded from\", output_dir)\n",
    "\n",
    "# Inference example\n",
    "image_path = \"/Users/kristinakuznetsova/Downloads/frames1/abnormal_scene_1_scenario_3_360.jpg\"\n",
    "image = Image.open(image_path).convert('RGB')\n",
    "inputs = processor(images=image, return_tensors=\"pt\")\n",
    "outputs = model.generate(**inputs)\n",
    "caption = processor.decode(outputs[0], skip_special_tokens=True)\n",
    "print(\"Generated Caption:\", caption)\n"
   ]
  },
  {
   "cell_type": "code",
   "execution_count": null,
   "id": "7515871a",
   "metadata": {},
   "outputs": [],
   "source": []
  }
 ],
 "metadata": {
  "kernelspec": {
   "display_name": "Python 3 (ipykernel)",
   "language": "python",
   "name": "python3"
  },
  "language_info": {
   "codemirror_mode": {
    "name": "ipython",
    "version": 3
   },
   "file_extension": ".py",
   "mimetype": "text/x-python",
   "name": "python",
   "nbconvert_exporter": "python",
   "pygments_lexer": "ipython3",
   "version": "3.11.5"
  }
 },
 "nbformat": 4,
 "nbformat_minor": 5
}
